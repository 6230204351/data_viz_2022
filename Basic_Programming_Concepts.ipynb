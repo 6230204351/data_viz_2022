{
  "nbformat": 4,
  "nbformat_minor": 0,
  "metadata": {
    "colab": {
      "name": "Basic Programming Concepts.ipynb",
      "provenance": [],
      "authorship_tag": "ABX9TyP32vn1Ksa0KY2eFJWApFUH",
      "include_colab_link": true
    },
    "kernelspec": {
      "name": "python3",
      "display_name": "Python 3"
    },
    "language_info": {
      "name": "python"
    }
  },
  "cells": [
    {
      "cell_type": "markdown",
      "metadata": {
        "id": "view-in-github",
        "colab_type": "text"
      },
      "source": [
        "<a href=\"https://colab.research.google.com/github/6230204351/data_viz_2022/blob/main/Basic_Programming_Concepts.ipynb\" target=\"_parent\"><img src=\"https://colab.research.google.com/assets/colab-badge.svg\" alt=\"Open In Colab\"/></a>"
      ]
    },
    {
      "cell_type": "markdown",
      "source": [
        "#Functions ($f(x) = y$)"
      ],
      "metadata": {
        "id": "G69NPLsYSlNl"
      }
    },
    {
      "cell_type": "markdown",
      "source": [
        "```python\n",
        "def function_name (input_x):\n",
        "  # du something with input_x to get output_y\n",
        "  return output_y\n",
        "```"
      ],
      "metadata": {
        "id": "ZuUfrQc9SpwH"
      }
    },
    {
      "cell_type": "markdown",
      "source": [
        "$F_1(x) = x^2 + 75$"
      ],
      "metadata": {
        "id": "bdAeCUi6SsTs"
      }
    },
    {
      "cell_type": "code",
      "execution_count": 1,
      "metadata": {
        "id": "XNP2Gq7BSe_x"
      },
      "outputs": [],
      "source": [
        "def function_f1 (x):\n",
        "  a=x**2\n",
        "  y=a+75\n",
        "  return y\n",
        "\n",
        "  print ('done !')"
      ]
    },
    {
      "cell_type": "code",
      "source": [
        "function_f1(3)"
      ],
      "metadata": {
        "colab": {
          "base_uri": "https://localhost:8080/"
        },
        "id": "4SHhWbHaSoR0",
        "outputId": "7e0e396d-0842-48a3-d0d7-f5d6e2711a3a"
      },
      "execution_count": 2,
      "outputs": [
        {
          "output_type": "execute_result",
          "data": {
            "text/plain": [
              "84"
            ]
          },
          "metadata": {},
          "execution_count": 2
        }
      ]
    },
    {
      "cell_type": "markdown",
      "source": [
        "function มีส่วนสำคัญทั้งหมด 4 ส่วน\n",
        "1. บอก python ว่าเราจะเขียนฟังก์ชัน ชื่ออะไร def function_name(): (ขาดไม่ได้)\n",
        "2. กำหนดตัวแปรที่ที่จะเป็น input  _input_ (ขาดไม่ได้)\n",
        "3. ส่วนประมวลผล do_something with  _input_ to get  _output_ (ขาดไม่ได้)\n",
        "4. ส่วน out put return  _output_ (ขาดได้)"
      ],
      "metadata": {
        "id": "KfXBsbt6S0GF"
      }
    },
    {
      "cell_type": "markdown",
      "source": [
        "##ตัวอย่าง function ที่มีส่วนประกอบครบ"
      ],
      "metadata": {
        "id": "43b_VrGpS2bE"
      }
    },
    {
      "cell_type": "code",
      "source": [
        "def function_f1 (x):\n",
        "  a=x**2\n",
        "  y=a+75\n",
        "  return y"
      ],
      "metadata": {
        "id": "C_KDK1v5SoP8"
      },
      "execution_count": 3,
      "outputs": []
    },
    {
      "cell_type": "markdown",
      "source": [
        "###ตัวอย่าง function ที่ไม่มี input"
      ],
      "metadata": {
        "id": "gDCafWjaS5gV"
      }
    },
    {
      "cell_type": "code",
      "source": [
        "def pi_v():\n",
        "  y= 3.14159265359\n",
        "  return y"
      ],
      "metadata": {
        "id": "ErOQGmkwSoNm"
      },
      "execution_count": 4,
      "outputs": []
    },
    {
      "cell_type": "code",
      "source": [
        "piv = pi_v()\n",
        "circle_area_r2 = piv*(2**2)\n",
        "print (circle_area_r2)"
      ],
      "metadata": {
        "colab": {
          "base_uri": "https://localhost:8080/"
        },
        "id": "jEK2SvXKSoLE",
        "outputId": "0ccf4d59-d5c3-4ff4-91ec-3407fe5b9c75"
      },
      "execution_count": 5,
      "outputs": [
        {
          "output_type": "stream",
          "name": "stdout",
          "text": [
            "12.56637061436\n"
          ]
        }
      ]
    },
    {
      "cell_type": "markdown",
      "source": [
        "###Function ไม่มี process ไม่ได้"
      ],
      "metadata": {
        "id": "1WRjTOcbS_NM"
      }
    },
    {
      "cell_type": "code",
      "source": [
        "def function_a():"
      ],
      "metadata": {
        "colab": {
          "base_uri": "https://localhost:8080/",
          "height": 132
        },
        "id": "4KAnAHVwSoI2",
        "outputId": "71125401-24ee-40c3-87f8-11949fc40122"
      },
      "execution_count": 6,
      "outputs": [
        {
          "output_type": "error",
          "ename": "SyntaxError",
          "evalue": "ignored",
          "traceback": [
            "\u001b[0;36m  File \u001b[0;32m\"<ipython-input-6-07a0750214a8>\"\u001b[0;36m, line \u001b[0;32m1\u001b[0m\n\u001b[0;31m    def function_a():\u001b[0m\n\u001b[0m                     ^\u001b[0m\n\u001b[0;31mSyntaxError\u001b[0m\u001b[0;31m:\u001b[0m unexpected EOF while parsing\n"
          ]
        }
      ]
    },
    {
      "cell_type": "markdown",
      "source": [
        "###ตัวอย่าง function ที่ไม่มี output"
      ],
      "metadata": {
        "id": "E3vws3c7TFGE"
      }
    },
    {
      "cell_type": "code",
      "source": [
        "def print_name_id(name,id):\n",
        "  print(f'ชื่อ {name} รหัสประจำตัว {id}')"
      ],
      "metadata": {
        "id": "DwcdGiO2SoGT"
      },
      "execution_count": 7,
      "outputs": []
    },
    {
      "cell_type": "code",
      "source": [
        "print_name_id ('ณัฐธิดา เมยดง','623020435-1')"
      ],
      "metadata": {
        "colab": {
          "base_uri": "https://localhost:8080/"
        },
        "id": "xUgg2CyCSoEE",
        "outputId": "eeec33b4-5e30-492d-8a06-411087683f05"
      },
      "execution_count": 8,
      "outputs": [
        {
          "output_type": "stream",
          "name": "stdout",
          "text": [
            "ชื่อ ณัฐธิดา เมยดง รหัสประจำตัว 623020435-1\n"
          ]
        }
      ]
    },
    {
      "cell_type": "code",
      "source": [
        "a = print_name_id ('ณัฐธิดา เมยดง','623020435-1')"
      ],
      "metadata": {
        "colab": {
          "base_uri": "https://localhost:8080/"
        },
        "id": "6M71zKEUSoBc",
        "outputId": "7d39e64a-c1dd-4b41-feef-fcf6125bad0f"
      },
      "execution_count": 9,
      "outputs": [
        {
          "output_type": "stream",
          "name": "stdout",
          "text": [
            "ชื่อ ณัฐธิดา เมยดง รหัสประจำตัว 623020435-1\n"
          ]
        }
      ]
    },
    {
      "cell_type": "markdown",
      "source": [
        "ตัวอย่าง function `print` https://www.programiz.com/python-programming/methods/built-in/print\n"
      ],
      "metadata": {
        "id": "6u3MoOYcTK7n"
      }
    },
    {
      "cell_type": "code",
      "source": [
        "print ('ณัฐธิดา')\n",
        "print('623020435-1')"
      ],
      "metadata": {
        "colab": {
          "base_uri": "https://localhost:8080/"
        },
        "id": "PmH7wz9WSn_d",
        "outputId": "c3fe560e-9aec-4b23-f3a3-95544efcdb3f"
      },
      "execution_count": 10,
      "outputs": [
        {
          "output_type": "stream",
          "name": "stdout",
          "text": [
            "ณัฐธิดา\n",
            "623020435-1\n"
          ]
        }
      ]
    },
    {
      "cell_type": "code",
      "source": [
        "print ('ณัฐธิดา',end=' -> ')\n",
        "print('623020435-1')"
      ],
      "metadata": {
        "colab": {
          "base_uri": "https://localhost:8080/"
        },
        "id": "UPLdCMVsSn8l",
        "outputId": "88a191e0-54fc-4900-c0f5-8fc20eb03784"
      },
      "execution_count": 11,
      "outputs": [
        {
          "output_type": "stream",
          "name": "stdout",
          "text": [
            "ณัฐธิดา -> 623020435-1\n"
          ]
        }
      ]
    },
    {
      "cell_type": "code",
      "source": [
        "print('ณัฐธิดา','623020435-1')"
      ],
      "metadata": {
        "colab": {
          "base_uri": "https://localhost:8080/"
        },
        "id": "KhihJxIFSn6c",
        "outputId": "28e4ed85-f1f7-458a-c0f7-c2554ff65b2f"
      },
      "execution_count": 12,
      "outputs": [
        {
          "output_type": "stream",
          "name": "stdout",
          "text": [
            "ณัฐธิดา 623020435-1\n"
          ]
        }
      ]
    },
    {
      "cell_type": "code",
      "source": [
        "print('ณัฐธิดา','623020435-1',sep=' & ')"
      ],
      "metadata": {
        "colab": {
          "base_uri": "https://localhost:8080/"
        },
        "id": "vpSQvV8cSn4G",
        "outputId": "41364491-6b04-4d3b-d94f-e1a318e35d2f"
      },
      "execution_count": 13,
      "outputs": [
        {
          "output_type": "stream",
          "name": "stdout",
          "text": [
            "ณัฐธิดา & 623020435-1\n"
          ]
        }
      ]
    },
    {
      "cell_type": "markdown",
      "source": [
        "## input ของ function แบ่งเป็น 2 ชนิด (จำเป็นต้องใส่ กับ ไม่จำเป็นต้องใส่)"
      ],
      "metadata": {
        "id": "JeY7Gs_lTVX-"
      }
    },
    {
      "cell_type": "markdown",
      "source": [
        "ตัวอย่าง function `print_grade()` มี input 3 ตัว จำเป็นต้องใส่ 2 ตัว คือ name กับ id และไม่จำเป็นต้องใส่ 1 ตัว คือ เกรด ซึ่งมีค่า default เป็น F"
      ],
      "metadata": {
        "id": "1ZnSUM7iTZW8"
      }
    },
    {
      "cell_type": "code",
      "source": [
        "def print_grade(name,id,grade = 'F'):\n",
        "    print(f'รหัสประจำตัว {id} ชื่อ {name}')\n",
        "    print(f'ได้เกรด {grade}')"
      ],
      "metadata": {
        "id": "8D1yzPczSn15"
      },
      "execution_count": 14,
      "outputs": []
    },
    {
      "cell_type": "code",
      "source": [
        "print_grade ('นางสาวณัฐธิดา  เมยดง','623020435-1')"
      ],
      "metadata": {
        "colab": {
          "base_uri": "https://localhost:8080/"
        },
        "id": "YDfrRqQqSnzz",
        "outputId": "5def9661-3116-404d-d971-5ec331009ed5"
      },
      "execution_count": 15,
      "outputs": [
        {
          "output_type": "stream",
          "name": "stdout",
          "text": [
            "รหัสประจำตัว 623020435-1 ชื่อ นางสาวณัฐธิดา  เมยดง\n",
            "ได้เกรด F\n"
          ]
        }
      ]
    },
    {
      "cell_type": "code",
      "source": [
        "print_grade('นางสาวณัฐธิดา  เมยดง','623020435-1','A')"
      ],
      "metadata": {
        "colab": {
          "base_uri": "https://localhost:8080/"
        },
        "id": "UL_zr051Snxl",
        "outputId": "3ecedaac-8555-4d3c-9711-15aa7d70aac2"
      },
      "execution_count": 16,
      "outputs": [
        {
          "output_type": "stream",
          "name": "stdout",
          "text": [
            "รหัสประจำตัว 623020435-1 ชื่อ นางสาวณัฐธิดา  เมยดง\n",
            "ได้เกรด A\n"
          ]
        }
      ]
    },
    {
      "cell_type": "code",
      "source": [
        "print_grade(id='623020435-1',name='นางสาวณัฐธิดา เมยดง',grade='B+')"
      ],
      "metadata": {
        "colab": {
          "base_uri": "https://localhost:8080/"
        },
        "id": "FN0dtZC_SnvN",
        "outputId": "1feb4d91-2752-4985-c5d4-07ff44ebea02"
      },
      "execution_count": 17,
      "outputs": [
        {
          "output_type": "stream",
          "name": "stdout",
          "text": [
            "รหัสประจำตัว 623020435-1 ชื่อ นางสาวณัฐธิดา เมยดง\n",
            "ได้เกรด B+\n"
          ]
        }
      ]
    },
    {
      "cell_type": "markdown",
      "source": [
        "#Looping (for)"
      ],
      "metadata": {
        "id": "oZhDdO6eTjK7"
      }
    },
    {
      "cell_type": "markdown",
      "source": [
        "```python\n",
        "for member in listEx:\n",
        "     do_something()\n",
        "```"
      ],
      "metadata": {
        "id": "yuRxZ05TTlpM"
      }
    },
    {
      "cell_type": "code",
      "source": [
        "for member in [1,2,3,4,5,6]:\n",
        "    print(member)"
      ],
      "metadata": {
        "colab": {
          "base_uri": "https://localhost:8080/"
        },
        "id": "mwTMeYwPTkWs",
        "outputId": "e3317e19-4e12-4f07-c487-6e6ae844eccd"
      },
      "execution_count": 18,
      "outputs": [
        {
          "output_type": "stream",
          "name": "stdout",
          "text": [
            "1\n",
            "2\n",
            "3\n",
            "4\n",
            "5\n",
            "6\n"
          ]
        }
      ]
    },
    {
      "cell_type": "code",
      "source": [
        "def print_name(name):\n",
        "  print(f'ฉันชื่อ {name} ')"
      ],
      "metadata": {
        "id": "VPfKPLizTkgH"
      },
      "execution_count": 19,
      "outputs": []
    },
    {
      "cell_type": "code",
      "source": [
        "for name in ['ณัฐธิดา','วัชราภรณ์','ญาดา','ชลธิชา','กิตติคุณ']:\n",
        "  N=name\n",
        "  print_name(N)"
      ],
      "metadata": {
        "colab": {
          "base_uri": "https://localhost:8080/"
        },
        "id": "hiRhSWL_TkeV",
        "outputId": "167a8ead-e120-4d4b-a310-a4213ae2c492"
      },
      "execution_count": 20,
      "outputs": [
        {
          "output_type": "stream",
          "name": "stdout",
          "text": [
            "ฉันชื่อ ณัฐธิดา \n",
            "ฉันชื่อ วัชราภรณ์ \n",
            "ฉันชื่อ ญาดา \n",
            "ฉันชื่อ ชลธิชา \n",
            "ฉันชื่อ กิตติคุณ \n"
          ]
        }
      ]
    },
    {
      "cell_type": "code",
      "source": [
        "list_name_id_grade = [['นางสาว ณัฐธิดา  เมยดง','623020435-1','A'],\n",
        "                               ['นางสาวจิรัชญา ฟองฟูม','613020038-0','B'],\n",
        "                               ['นายสุภทัต ขุนจันทร์','613020566-5','C']]"
      ],
      "metadata": {
        "id": "mn1CaPe4Tkb1"
      },
      "execution_count": 21,
      "outputs": []
    },
    {
      "cell_type": "code",
      "source": [
        "for each in list_name_id_grade:\n",
        "  name=each[0]\n",
        "  id=each[1]\n",
        "  grade=each[2]\n",
        "  print_grade(name,id,grade)\n",
        "  print('------------------------')"
      ],
      "metadata": {
        "colab": {
          "base_uri": "https://localhost:8080/"
        },
        "id": "ld0IHtdYTkZm",
        "outputId": "2b10afb6-46ff-4fc4-ae82-737078a67226"
      },
      "execution_count": 22,
      "outputs": [
        {
          "output_type": "stream",
          "name": "stdout",
          "text": [
            "รหัสประจำตัว 623020435-1 ชื่อ นางสาว ณัฐธิดา  เมยดง\n",
            "ได้เกรด A\n",
            "------------------------\n",
            "รหัสประจำตัว 613020038-0 ชื่อ นางสาวจิรัชญา ฟองฟูม\n",
            "ได้เกรด B\n",
            "------------------------\n",
            "รหัสประจำตัว 613020566-5 ชื่อ นายสุภทัต ขุนจันทร์\n",
            "ได้เกรด C\n",
            "------------------------\n"
          ]
        }
      ]
    },
    {
      "cell_type": "markdown",
      "source": [
        "##ใช้ for loop เพิ่มสมาชิกใน list"
      ],
      "metadata": {
        "id": "6fabi692TyoL"
      }
    },
    {
      "cell_type": "code",
      "source": [
        "list_name= []\n",
        "list_id= []\n",
        "list_grade = []\n",
        "for each in list_name_id_grade:\n",
        "  list_name.append(each[0])\n",
        "  list_id.append(each[1])\n",
        "  list_grade.append(each[2])"
      ],
      "metadata": {
        "id": "03IJRIDnTzKT"
      },
      "execution_count": 23,
      "outputs": []
    },
    {
      "cell_type": "code",
      "source": [
        "list_name"
      ],
      "metadata": {
        "colab": {
          "base_uri": "https://localhost:8080/"
        },
        "id": "e8lTqvWgT0Ec",
        "outputId": "ad7f32ea-1298-4376-f138-76505cdd5ca8"
      },
      "execution_count": 24,
      "outputs": [
        {
          "output_type": "execute_result",
          "data": {
            "text/plain": [
              "['นางสาว ณัฐธิดา  เมยดง', 'นางสาวจิรัชญา ฟองฟูม', 'นายสุภทัต ขุนจันทร์']"
            ]
          },
          "metadata": {},
          "execution_count": 24
        }
      ]
    },
    {
      "cell_type": "markdown",
      "source": [
        "### การวนลูปด้วย range()"
      ],
      "metadata": {
        "id": "r9p21cHgT56D"
      }
    },
    {
      "cell_type": "code",
      "source": [
        "for i in range(100):\n",
        "  print('งง', end = '  ')"
      ],
      "metadata": {
        "colab": {
          "base_uri": "https://localhost:8080/"
        },
        "id": "hlP0GuqqT0As",
        "outputId": "a850024e-6438-479d-dfd6-fd94712cd296"
      },
      "execution_count": 25,
      "outputs": [
        {
          "output_type": "stream",
          "name": "stdout",
          "text": [
            "งง  งง  งง  งง  งง  งง  งง  งง  งง  งง  งง  งง  งง  งง  งง  งง  งง  งง  งง  งง  งง  งง  งง  งง  งง  งง  งง  งง  งง  งง  งง  งง  งง  งง  งง  งง  งง  งง  งง  งง  งง  งง  งง  งง  งง  งง  งง  งง  งง  งง  งง  งง  งง  งง  งง  งง  งง  งง  งง  งง  งง  งง  งง  งง  งง  งง  งง  งง  งง  งง  งง  งง  งง  งง  งง  งง  งง  งง  งง  งง  งง  งง  งง  งง  งง  งง  งง  งง  งง  งง  งง  งง  งง  งง  งง  งง  งง  งง  งง  งง  "
          ]
        }
      ]
    },
    {
      "cell_type": "markdown",
      "source": [
        "###Loop ซ้อน Loop"
      ],
      "metadata": {
        "id": "Z5vzuMqYT8vj"
      }
    },
    {
      "cell_type": "code",
      "source": [
        "for mem1 in range(2,5):\n",
        "    print(f'now mem1 = {mem1}')\n",
        "    for mem2 in range(1,13): #[1,2,3,4,5,6,7,8,9,10,11,12]\n",
        "          print(f'{mem1} x {mem2} = {mem1*mem2}')\n",
        "    print('end inner for mem1 = {mem1}')"
      ],
      "metadata": {
        "colab": {
          "base_uri": "https://localhost:8080/"
        },
        "id": "_dqe_JgFTz-r",
        "outputId": "b51810fe-6593-43c8-c91e-ad65f5e88fb0"
      },
      "execution_count": 26,
      "outputs": [
        {
          "output_type": "stream",
          "name": "stdout",
          "text": [
            "now mem1 = 2\n",
            "2 x 1 = 2\n",
            "2 x 2 = 4\n",
            "2 x 3 = 6\n",
            "2 x 4 = 8\n",
            "2 x 5 = 10\n",
            "2 x 6 = 12\n",
            "2 x 7 = 14\n",
            "2 x 8 = 16\n",
            "2 x 9 = 18\n",
            "2 x 10 = 20\n",
            "2 x 11 = 22\n",
            "2 x 12 = 24\n",
            "end inner for mem1 = {mem1}\n",
            "now mem1 = 3\n",
            "3 x 1 = 3\n",
            "3 x 2 = 6\n",
            "3 x 3 = 9\n",
            "3 x 4 = 12\n",
            "3 x 5 = 15\n",
            "3 x 6 = 18\n",
            "3 x 7 = 21\n",
            "3 x 8 = 24\n",
            "3 x 9 = 27\n",
            "3 x 10 = 30\n",
            "3 x 11 = 33\n",
            "3 x 12 = 36\n",
            "end inner for mem1 = {mem1}\n",
            "now mem1 = 4\n",
            "4 x 1 = 4\n",
            "4 x 2 = 8\n",
            "4 x 3 = 12\n",
            "4 x 4 = 16\n",
            "4 x 5 = 20\n",
            "4 x 6 = 24\n",
            "4 x 7 = 28\n",
            "4 x 8 = 32\n",
            "4 x 9 = 36\n",
            "4 x 10 = 40\n",
            "4 x 11 = 44\n",
            "4 x 12 = 48\n",
            "end inner for mem1 = {mem1}\n"
          ]
        }
      ]
    },
    {
      "cell_type": "markdown",
      "source": [
        "### Loop in Function"
      ],
      "metadata": {
        "id": "h3wfrxe5UD7r"
      }
    },
    {
      "cell_type": "code",
      "source": [
        "def print_grade_loop(name,grades):\n",
        "    for n,g in zip(name,grades):\n",
        "        print(f'{n} ได้เกรด {g}')"
      ],
      "metadata": {
        "id": "OhBkwjtITz8E"
      },
      "execution_count": 27,
      "outputs": []
    },
    {
      "cell_type": "code",
      "source": [
        "print_grade_loop(list_name, list_grade)"
      ],
      "metadata": {
        "colab": {
          "base_uri": "https://localhost:8080/"
        },
        "id": "sWtEiyS_Tz49",
        "outputId": "57d007e4-f11a-4c3c-ed28-81baa1264b55"
      },
      "execution_count": 28,
      "outputs": [
        {
          "output_type": "stream",
          "name": "stdout",
          "text": [
            "นางสาว ณัฐธิดา  เมยดง ได้เกรด A\n",
            "นางสาวจิรัชญา ฟองฟูม ได้เกรด B\n",
            "นายสุภทัต ขุนจันทร์ ได้เกรด C\n"
          ]
        }
      ]
    },
    {
      "cell_type": "markdown",
      "source": [
        "#Conditional Statement (if)"
      ],
      "metadata": {
        "id": "3zcd81ykUI-z"
      }
    },
    {
      "cell_type": "markdown",
      "source": [
        "```python\n",
        "if condition1:\n",
        "    do_something() ## ถ้า condition1 เป็นจริง ทำ do_something()\n",
        "elif condition2:\n",
        "    do_another_thing() ## ถ้า condition1 ไม่เป็นจริง แต่ condition2 เป็นจริง ทำ do_another_thing()\n",
        "else:\n",
        "    do_the_last_thing() ## ถ้าไม่มี condition ไหนเป็นจริงเลย ทำ do_the_last_thing()\n",
        "```"
      ],
      "metadata": {
        "id": "ABoud_RXUKmb"
      }
    },
    {
      "cell_type": "code",
      "source": [
        "for n in list_name:\n",
        "    if len(n)>20:\n",
        "        print(f'{n} ได้เกรด A')\n",
        "    else:\n",
        "        print (f'{n} ได้เกรด F')"
      ],
      "metadata": {
        "colab": {
          "base_uri": "https://localhost:8080/"
        },
        "id": "tzgXb1VKUJtD",
        "outputId": "83d8bb23-b2cb-4f32-b75f-f44017c888cc"
      },
      "execution_count": 29,
      "outputs": [
        {
          "output_type": "stream",
          "name": "stdout",
          "text": [
            "นางสาว ณัฐธิดา  เมยดง ได้เกรด A\n",
            "นางสาวจิรัชญา ฟองฟูม ได้เกรด F\n",
            "นายสุภทัต ขุนจันทร์ ได้เกรด F\n"
          ]
        }
      ]
    },
    {
      "cell_type": "markdown",
      "source": [
        "### operator ที่ใช้ตรวจสอบ condition\n",
        "==, !=, >=, <=, <, >, and, or"
      ],
      "metadata": {
        "id": "IUlK0hSfUPfq"
      }
    },
    {
      "cell_type": "code",
      "source": [
        "a = 10==20\n",
        "print(a)"
      ],
      "metadata": {
        "colab": {
          "base_uri": "https://localhost:8080/"
        },
        "id": "Lnp9m3EXUKXs",
        "outputId": "9db9ed92-3e57-4f21-f3d2-68377607f32e"
      },
      "execution_count": 30,
      "outputs": [
        {
          "output_type": "stream",
          "name": "stdout",
          "text": [
            "False\n"
          ]
        }
      ]
    },
    {
      "cell_type": "code",
      "source": [
        "b = 15<20\n",
        "print (b)"
      ],
      "metadata": {
        "colab": {
          "base_uri": "https://localhost:8080/"
        },
        "id": "woIzw4d6UKV1",
        "outputId": "8c9282f3-8d30-4ad3-9a62-f0e522ece45a"
      },
      "execution_count": 31,
      "outputs": [
        {
          "output_type": "stream",
          "name": "stdout",
          "text": [
            "True\n"
          ]
        }
      ]
    },
    {
      "cell_type": "code",
      "source": [
        "if a:\n",
        "    print('x')"
      ],
      "metadata": {
        "id": "2hSnwpQoUKTn"
      },
      "execution_count": 32,
      "outputs": []
    },
    {
      "cell_type": "code",
      "source": [
        "if True:\n",
        "    print('X')"
      ],
      "metadata": {
        "colab": {
          "base_uri": "https://localhost:8080/"
        },
        "id": "twlHHE7pUKRc",
        "outputId": "934115b7-e75e-43bb-be73-4771704d8076"
      },
      "execution_count": 33,
      "outputs": [
        {
          "output_type": "stream",
          "name": "stdout",
          "text": [
            "X\n"
          ]
        }
      ]
    },
    {
      "cell_type": "code",
      "source": [
        "if a and b:\n",
        "    print('X')"
      ],
      "metadata": {
        "id": "q9gpZi1zUKPD"
      },
      "execution_count": 34,
      "outputs": []
    },
    {
      "cell_type": "code",
      "source": [
        "if a or b:\n",
        "    print('X')"
      ],
      "metadata": {
        "colab": {
          "base_uri": "https://localhost:8080/"
        },
        "id": "NDubfyr5Uatk",
        "outputId": "b6eca2e8-3006-4116-8d61-3e17eb1969e9"
      },
      "execution_count": 35,
      "outputs": [
        {
          "output_type": "stream",
          "name": "stdout",
          "text": [
            "X\n"
          ]
        }
      ]
    },
    {
      "cell_type": "markdown",
      "source": [
        "# HW\n",
        "เขียน function ตัดเกรด โดยที่ input เป็นคะเเนน (0-100) , output เป็นเกรด (F-A) หรือ 'ไม่สามารถตัดเกรดได้'\n",
        "วนลูปตัดเกรด input =[1,50,65,90,101,-5,49,'ก',80]\n",
        "\n",
        "กำหนด\n",
        "* ถ้าคะแนนอยู่ระหว่างมากกว่าหรือเท่ากับ 0 แต่น้อยกว่า 50 จะได้เกรด F\n",
        "* ถ้าคะแนนอยู่ระหว่างมากกว่าหรือเท่ากับ 50 แต่น้อยกว่า 55 จะได้เกรด D\n",
        "* ถ้าคะแนนอยู่ระหว่างมากกว่าหรือเท่ากับ 55 แต่น้อยกว่า 60 จะได้เกรด D+\n",
        "* ถ้าคะแนนอยู่ระหว่างมากกว่าหรือเท่ากับ 60 แต่น้อยกว่า 65 จะได้เกรด C\n",
        "* ถ้าคะแนนอยู่ระหว่างมากกว่าหรือเท่ากับ 65 แต่น้อยกว่า 70 จะได้เกรด C+\n",
        "* ถ้าคะแนนอยู่ระหว่างมากกว่าหรือเท่ากับ 70 แต่น้อยกว่า 75 จะได้เกรด B\n",
        "* ถ้าคะแนนอยู่ระหว่างมากกว่าหรือเท่ากับ 75 แต่น้อยกว่า 80 จะได้เกรด B+\n",
        "* ถ้าคะแนนอยู่ระหว่างมากกว่าหรือเท่ากับ 80 จะได้เกรด A\n",
        "* ถ้าคะแนนไม่อยู่ในช่วง 0-100 ให้ return 'ไม่สามารถตัดเกรดได้'"
      ],
      "metadata": {
        "id": "nhsLvNxXUe3T"
      }
    },
    {
      "cell_type": "code",
      "source": [
        "input = [1,50,65,90,101,-5,49,'ก',80]"
      ],
      "metadata": {
        "id": "cCP1KyDuUf0E"
      },
      "execution_count": 36,
      "outputs": []
    },
    {
      "cell_type": "code",
      "source": [
        "def cal_grade(x):\n",
        "    if type(x) == type(''):\n",
        "        print(f'{x} ไม่สามารถตัดเกรดได้')\n",
        "    else:\n",
        "        if x >= 0 and x < 50:\n",
        "            print(f'คะแนน {x} ได้เกรด F')\n",
        "        elif x >= 50 and x < 55:\n",
        "            print(f'คะแนน {x} ได้เกรด D')\n",
        "        elif x >= 55 and x < 60:\n",
        "            print(f'คะแนน{x} ได้เกรด D+')\n",
        "        elif x >= 60 and x < 65:\n",
        "            print(f'คะแนน {x} ได้เกรด C')\n",
        "        elif x >= 65 and x < 70:\n",
        "            print(f'คะแนน {x} ได้เกรด C+')\n",
        "        elif x >= 70 and x < 75:\n",
        "            print(f'คะแนน {x} ได้เกรด B')\n",
        "        elif x >= 75 and x < 80:\n",
        "            print(f'คะแนน {x} ได้เกรด B+')\n",
        "        elif x >= 80 and x <= 100:\n",
        "            print(f'คะแนน {x} ได้เกรด A')\n",
        "        else:\n",
        "            print(f'คะแนน {x} ไม่สามารถตัดเกรดได้')"
      ],
      "metadata": {
        "id": "g0MzG365UkEM"
      },
      "execution_count": 37,
      "outputs": []
    },
    {
      "cell_type": "code",
      "source": [
        "cal_grade(1)"
      ],
      "metadata": {
        "colab": {
          "base_uri": "https://localhost:8080/"
        },
        "id": "xCnpJf7gUkCB",
        "outputId": "f96a66aa-0d91-4f72-88e2-cdf837002327"
      },
      "execution_count": 38,
      "outputs": [
        {
          "output_type": "stream",
          "name": "stdout",
          "text": [
            "คะแนน 1 ได้เกรด F\n"
          ]
        }
      ]
    },
    {
      "cell_type": "code",
      "source": [
        "cal_grade(50)"
      ],
      "metadata": {
        "colab": {
          "base_uri": "https://localhost:8080/"
        },
        "id": "pOpPx8d3Uj_u",
        "outputId": "9b452573-175b-4043-fbd9-a338cba2a03f"
      },
      "execution_count": 39,
      "outputs": [
        {
          "output_type": "stream",
          "name": "stdout",
          "text": [
            "คะแนน 50 ได้เกรด D\n"
          ]
        }
      ]
    },
    {
      "cell_type": "code",
      "source": [
        "cal_grade(65)"
      ],
      "metadata": {
        "colab": {
          "base_uri": "https://localhost:8080/"
        },
        "id": "nRpHKuv4Uj68",
        "outputId": "ee2577ad-6105-42f1-f699-51c1c14f9479"
      },
      "execution_count": 40,
      "outputs": [
        {
          "output_type": "stream",
          "name": "stdout",
          "text": [
            "คะแนน 65 ได้เกรด C+\n"
          ]
        }
      ]
    },
    {
      "cell_type": "code",
      "source": [
        "cal_grade(90)"
      ],
      "metadata": {
        "colab": {
          "base_uri": "https://localhost:8080/"
        },
        "id": "W6xYRWGGUq2r",
        "outputId": "e21ce0dc-5f47-4910-e1c8-08a22ea7d2fb"
      },
      "execution_count": 41,
      "outputs": [
        {
          "output_type": "stream",
          "name": "stdout",
          "text": [
            "คะแนน 90 ได้เกรด A\n"
          ]
        }
      ]
    },
    {
      "cell_type": "code",
      "source": [
        "cal_grade(101)"
      ],
      "metadata": {
        "colab": {
          "base_uri": "https://localhost:8080/"
        },
        "id": "AGkz5oDnUq0E",
        "outputId": "843f5e4e-dcc8-48a1-bfcf-ae1726239efb"
      },
      "execution_count": 42,
      "outputs": [
        {
          "output_type": "stream",
          "name": "stdout",
          "text": [
            "คะแนน 101 ไม่สามารถตัดเกรดได้\n"
          ]
        }
      ]
    },
    {
      "cell_type": "code",
      "source": [
        "cal_grade(-5)"
      ],
      "metadata": {
        "colab": {
          "base_uri": "https://localhost:8080/"
        },
        "id": "MyWJfbTeUqv9",
        "outputId": "78dd96f8-4a37-4f53-adbf-fe069e9a0148"
      },
      "execution_count": 43,
      "outputs": [
        {
          "output_type": "stream",
          "name": "stdout",
          "text": [
            "คะแนน -5 ไม่สามารถตัดเกรดได้\n"
          ]
        }
      ]
    },
    {
      "cell_type": "code",
      "source": [
        "cal_grade(49)"
      ],
      "metadata": {
        "colab": {
          "base_uri": "https://localhost:8080/"
        },
        "id": "1KgHCvojUqtU",
        "outputId": "305749fb-b554-484d-ad32-09f0ef56b604"
      },
      "execution_count": 44,
      "outputs": [
        {
          "output_type": "stream",
          "name": "stdout",
          "text": [
            "คะแนน 49 ได้เกรด F\n"
          ]
        }
      ]
    },
    {
      "cell_type": "code",
      "source": [
        "cal_grade('ก')"
      ],
      "metadata": {
        "colab": {
          "base_uri": "https://localhost:8080/"
        },
        "id": "opFAYa-DUyEE",
        "outputId": "537887ff-17f0-4f90-ec2e-b43e6f1d5f4f"
      },
      "execution_count": 45,
      "outputs": [
        {
          "output_type": "stream",
          "name": "stdout",
          "text": [
            "ก ไม่สามารถตัดเกรดได้\n"
          ]
        }
      ]
    },
    {
      "cell_type": "code",
      "source": [
        "cal_grade(80)"
      ],
      "metadata": {
        "colab": {
          "base_uri": "https://localhost:8080/"
        },
        "id": "hFJpR7DDU0Eb",
        "outputId": "f7d2b288-b688-4fa9-aa21-a8f9aa882821"
      },
      "execution_count": 46,
      "outputs": [
        {
          "output_type": "stream",
          "name": "stdout",
          "text": [
            "คะแนน 80 ได้เกรด A\n"
          ]
        }
      ]
    }
  ]
}